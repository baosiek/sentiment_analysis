{
  "nbformat": 4,
  "nbformat_minor": 0,
  "metadata": {
    "language_info": {
      "codemirror_mode": {
        "name": "ipython",
        "version": 3
      },
      "file_extension": ".py",
      "mimetype": "text/x-python",
      "name": "python",
      "nbconvert_exporter": "python",
      "pygments_lexer": "ipython3",
      "version": "3.7.9-final"
    },
    "orig_nbformat": 2,
    "kernelspec": {
      "name": "python37964bitdeeplearningconda8b405214170f4fc6bc10bfc6973ba42f",
      "display_name": "Python 3.7.9 64-bit ('deep_learning': conda)",
      "language": "python"
    },
    "colab": {
      "name": "SentimentAnalysis_BERT.ipynb",
      "provenance": []
    },
    "accelerator": "GPU"
  },
  "cells": [
    {
      "cell_type": "markdown",
      "metadata": {
        "id": "siWrY6AY68Js"
      },
      "source": [
        "<h1><center>Sentiment Analysis Classifier with BERT</center></h1>"
      ]
    },
    {
      "cell_type": "markdown",
      "metadata": {
        "id": "J0mOFnw168Jx"
      },
      "source": [
        "This project is based on Manning's book \"Transfer Learning for NLP\" (chapter 2).\n",
        "The goal here is:\n",
        "\n",
        "1. Curate a dataset with reviews from imdb classic dataset\n",
        "2. Create a Pandas dataframe from it.\n",
        "3. Create a simple bag-of-words model from the above content. Simple because it is based on term frequency (tf) only.\n",
        "4. Choose one baseline classifier from Logistic Regression and Gradient Boosting Machine\n",
        "5. Accuracy will be the metric of choice as the dataset is balanced and consists of two classes\n",
        "6. Train a SentimentAnalysis classifier based on BERT embeddings\n",
        "\n",
        "But before starting let's make sure we have the correct libraries versions installed, namelly tensorflow and bert-tensorflow."
      ]
    },
    {
      "cell_type": "code",
      "metadata": {
        "id": "TMFfkDbI68J1",
        "outputId": "42cb89eb-bf76-4939-e4c2-5a6a58d862de",
        "colab": {
          "base_uri": "https://localhost:8080/"
        }
      },
      "source": [
        "import sys\n",
        "!{sys.executable} -m pip install -r requirements-colab.txt"
      ],
      "execution_count": 1,
      "outputs": [
        {
          "output_type": "stream",
          "text": [
            "Collecting tensorflow-gpu==1.15.2\n",
            "\u001b[?25l  Downloading https://files.pythonhosted.org/packages/32/ca/58e40e5077fa2a92004f398d705a288e958434f123938f4ce75ffe25b64b/tensorflow_gpu-1.15.2-cp36-cp36m-manylinux2010_x86_64.whl (411.0MB)\n",
            "\u001b[K     |████████████████████████████████| 411.0MB 41kB/s \n",
            "\u001b[?25hCollecting tensorflow-hub==0.9.0\n",
            "\u001b[?25l  Downloading https://files.pythonhosted.org/packages/ac/83/a7df82744a794107641dad1decaad017d82e25f0e1f761ac9204829eef96/tensorflow_hub-0.9.0-py2.py3-none-any.whl (103kB)\n",
            "\u001b[K     |████████████████████████████████| 112kB 59.3MB/s \n",
            "\u001b[?25hCollecting bert-tensorflow==1.0.1\n",
            "\u001b[?25l  Downloading https://files.pythonhosted.org/packages/a6/66/7eb4e8b6ea35b7cc54c322c816f976167a43019750279a8473d355800a93/bert_tensorflow-1.0.1-py2.py3-none-any.whl (67kB)\n",
            "\u001b[K     |████████████████████████████████| 71kB 11.5MB/s \n",
            "\u001b[?25hCollecting keras==2.3.1\n",
            "\u001b[?25l  Downloading https://files.pythonhosted.org/packages/ad/fd/6bfe87920d7f4fd475acd28500a42482b6b84479832bdc0fe9e589a60ceb/Keras-2.3.1-py2.py3-none-any.whl (377kB)\n",
            "\u001b[K     |████████████████████████████████| 378kB 57.6MB/s \n",
            "\u001b[?25hCollecting tqdm==4.55.0\n",
            "\u001b[?25l  Downloading https://files.pythonhosted.org/packages/05/bb/9403e1f30ed060e16835c9b275620ca89191a41ccc2b995b88efbc32dfd9/tqdm-4.55.0-py2.py3-none-any.whl (68kB)\n",
            "\u001b[K     |████████████████████████████████| 71kB 10.9MB/s \n",
            "\u001b[?25hRequirement already satisfied: six>=1.10.0 in /usr/local/lib/python3.6/dist-packages (from tensorflow-gpu==1.15.2->-r requirements-colab.txt (line 1)) (1.15.0)\n",
            "Collecting gast==0.2.2\n",
            "  Downloading https://files.pythonhosted.org/packages/4e/35/11749bf99b2d4e3cceb4d55ca22590b0d7c2c62b9de38ac4a4a7f4687421/gast-0.2.2.tar.gz\n",
            "Requirement already satisfied: opt-einsum>=2.3.2 in /usr/local/lib/python3.6/dist-packages (from tensorflow-gpu==1.15.2->-r requirements-colab.txt (line 1)) (3.3.0)\n",
            "Requirement already satisfied: grpcio>=1.8.6 in /usr/local/lib/python3.6/dist-packages (from tensorflow-gpu==1.15.2->-r requirements-colab.txt (line 1)) (1.32.0)\n",
            "Requirement already satisfied: wrapt>=1.11.1 in /usr/local/lib/python3.6/dist-packages (from tensorflow-gpu==1.15.2->-r requirements-colab.txt (line 1)) (1.12.1)\n",
            "Requirement already satisfied: termcolor>=1.1.0 in /usr/local/lib/python3.6/dist-packages (from tensorflow-gpu==1.15.2->-r requirements-colab.txt (line 1)) (1.1.0)\n",
            "Requirement already satisfied: numpy<2.0,>=1.16.0 in /usr/local/lib/python3.6/dist-packages (from tensorflow-gpu==1.15.2->-r requirements-colab.txt (line 1)) (1.19.4)\n",
            "Requirement already satisfied: absl-py>=0.7.0 in /usr/local/lib/python3.6/dist-packages (from tensorflow-gpu==1.15.2->-r requirements-colab.txt (line 1)) (0.10.0)\n",
            "Requirement already satisfied: keras-preprocessing>=1.0.5 in /usr/local/lib/python3.6/dist-packages (from tensorflow-gpu==1.15.2->-r requirements-colab.txt (line 1)) (1.1.2)\n",
            "Requirement already satisfied: wheel>=0.26; python_version >= \"3\" in /usr/local/lib/python3.6/dist-packages (from tensorflow-gpu==1.15.2->-r requirements-colab.txt (line 1)) (0.36.2)\n",
            "Collecting keras-applications>=1.0.8\n",
            "\u001b[?25l  Downloading https://files.pythonhosted.org/packages/71/e3/19762fdfc62877ae9102edf6342d71b28fbfd9dea3d2f96a882ce099b03f/Keras_Applications-1.0.8-py3-none-any.whl (50kB)\n",
            "\u001b[K     |████████████████████████████████| 51kB 8.3MB/s \n",
            "\u001b[?25hRequirement already satisfied: protobuf>=3.6.1 in /usr/local/lib/python3.6/dist-packages (from tensorflow-gpu==1.15.2->-r requirements-colab.txt (line 1)) (3.12.4)\n",
            "Collecting tensorboard<1.16.0,>=1.15.0\n",
            "\u001b[?25l  Downloading https://files.pythonhosted.org/packages/1e/e9/d3d747a97f7188f48aa5eda486907f3b345cd409f0a0850468ba867db246/tensorboard-1.15.0-py3-none-any.whl (3.8MB)\n",
            "\u001b[K     |████████████████████████████████| 3.8MB 50.5MB/s \n",
            "\u001b[?25hRequirement already satisfied: astor>=0.6.0 in /usr/local/lib/python3.6/dist-packages (from tensorflow-gpu==1.15.2->-r requirements-colab.txt (line 1)) (0.8.1)\n",
            "Collecting tensorflow-estimator==1.15.1\n",
            "\u001b[?25l  Downloading https://files.pythonhosted.org/packages/de/62/2ee9cd74c9fa2fa450877847ba560b260f5d0fb70ee0595203082dafcc9d/tensorflow_estimator-1.15.1-py2.py3-none-any.whl (503kB)\n",
            "\u001b[K     |████████████████████████████████| 512kB 63.1MB/s \n",
            "\u001b[?25hRequirement already satisfied: google-pasta>=0.1.6 in /usr/local/lib/python3.6/dist-packages (from tensorflow-gpu==1.15.2->-r requirements-colab.txt (line 1)) (0.2.0)\n",
            "Requirement already satisfied: scipy>=0.14 in /usr/local/lib/python3.6/dist-packages (from keras==2.3.1->-r requirements-colab.txt (line 4)) (1.4.1)\n",
            "Requirement already satisfied: h5py in /usr/local/lib/python3.6/dist-packages (from keras==2.3.1->-r requirements-colab.txt (line 4)) (2.10.0)\n",
            "Requirement already satisfied: pyyaml in /usr/local/lib/python3.6/dist-packages (from keras==2.3.1->-r requirements-colab.txt (line 4)) (3.13)\n",
            "Requirement already satisfied: setuptools in /usr/local/lib/python3.6/dist-packages (from protobuf>=3.6.1->tensorflow-gpu==1.15.2->-r requirements-colab.txt (line 1)) (51.0.0)\n",
            "Requirement already satisfied: markdown>=2.6.8 in /usr/local/lib/python3.6/dist-packages (from tensorboard<1.16.0,>=1.15.0->tensorflow-gpu==1.15.2->-r requirements-colab.txt (line 1)) (3.3.3)\n",
            "Requirement already satisfied: werkzeug>=0.11.15 in /usr/local/lib/python3.6/dist-packages (from tensorboard<1.16.0,>=1.15.0->tensorflow-gpu==1.15.2->-r requirements-colab.txt (line 1)) (1.0.1)\n",
            "Requirement already satisfied: importlib-metadata; python_version < \"3.8\" in /usr/local/lib/python3.6/dist-packages (from markdown>=2.6.8->tensorboard<1.16.0,>=1.15.0->tensorflow-gpu==1.15.2->-r requirements-colab.txt (line 1)) (3.3.0)\n",
            "Requirement already satisfied: typing-extensions>=3.6.4; python_version < \"3.8\" in /usr/local/lib/python3.6/dist-packages (from importlib-metadata; python_version < \"3.8\"->markdown>=2.6.8->tensorboard<1.16.0,>=1.15.0->tensorflow-gpu==1.15.2->-r requirements-colab.txt (line 1)) (3.7.4.3)\n",
            "Requirement already satisfied: zipp>=0.5 in /usr/local/lib/python3.6/dist-packages (from importlib-metadata; python_version < \"3.8\"->markdown>=2.6.8->tensorboard<1.16.0,>=1.15.0->tensorflow-gpu==1.15.2->-r requirements-colab.txt (line 1)) (3.4.0)\n",
            "Building wheels for collected packages: gast\n",
            "  Building wheel for gast (setup.py) ... \u001b[?25l\u001b[?25hdone\n",
            "  Created wheel for gast: filename=gast-0.2.2-cp36-none-any.whl size=7540 sha256=3617f9da2de77db20578201b21f97db705dccf515d436a93bcc2283622716190\n",
            "  Stored in directory: /root/.cache/pip/wheels/5c/2e/7e/a1d4d4fcebe6c381f378ce7743a3ced3699feb89bcfbdadadd\n",
            "Successfully built gast\n",
            "\u001b[31mERROR: tensorflow 2.4.0 has requirement gast==0.3.3, but you'll have gast 0.2.2 which is incompatible.\u001b[0m\n",
            "\u001b[31mERROR: tensorflow 2.4.0 has requirement tensorboard~=2.4, but you'll have tensorboard 1.15.0 which is incompatible.\u001b[0m\n",
            "\u001b[31mERROR: tensorflow 2.4.0 has requirement tensorflow-estimator<2.5.0,>=2.4.0rc0, but you'll have tensorflow-estimator 1.15.1 which is incompatible.\u001b[0m\n",
            "\u001b[31mERROR: tensorflow-probability 0.11.0 has requirement gast>=0.3.2, but you'll have gast 0.2.2 which is incompatible.\u001b[0m\n",
            "Installing collected packages: gast, keras-applications, tensorboard, tensorflow-estimator, tensorflow-gpu, tensorflow-hub, bert-tensorflow, keras, tqdm\n",
            "  Found existing installation: gast 0.3.3\n",
            "    Uninstalling gast-0.3.3:\n",
            "      Successfully uninstalled gast-0.3.3\n",
            "  Found existing installation: tensorboard 2.4.0\n",
            "    Uninstalling tensorboard-2.4.0:\n",
            "      Successfully uninstalled tensorboard-2.4.0\n",
            "  Found existing installation: tensorflow-estimator 2.4.0\n",
            "    Uninstalling tensorflow-estimator-2.4.0:\n",
            "      Successfully uninstalled tensorflow-estimator-2.4.0\n",
            "  Found existing installation: tensorflow-hub 0.10.0\n",
            "    Uninstalling tensorflow-hub-0.10.0:\n",
            "      Successfully uninstalled tensorflow-hub-0.10.0\n",
            "  Found existing installation: Keras 2.4.3\n",
            "    Uninstalling Keras-2.4.3:\n",
            "      Successfully uninstalled Keras-2.4.3\n",
            "  Found existing installation: tqdm 4.41.1\n",
            "    Uninstalling tqdm-4.41.1:\n",
            "      Successfully uninstalled tqdm-4.41.1\n",
            "Successfully installed bert-tensorflow-1.0.1 gast-0.2.2 keras-2.3.1 keras-applications-1.0.8 tensorboard-1.15.0 tensorflow-estimator-1.15.1 tensorflow-gpu-1.15.2 tensorflow-hub-0.9.0 tqdm-4.55.0\n"
          ],
          "name": "stdout"
        }
      ]
    },
    {
      "cell_type": "markdown",
      "metadata": {
        "id": "EVuRW-6W68J4"
      },
      "source": [
        "Now we will import required Python libraries and the dataset. To download the dataset I will use the bash script get_aclImdb.sh. It downloads and extracts the compressed archive into ./data/aclImdb. It requires execution privilege (sudo chmod +x get_aclImdb.sh)."
      ]
    },
    {
      "cell_type": "code",
      "metadata": {
        "tags": [],
        "id": "6nw4c0wx68J6",
        "outputId": "0fe06f22-8b9f-480d-f0d0-a45e1190b06d",
        "colab": {
          "base_uri": "https://localhost:8080/"
        }
      },
      "source": [
        "import pandas as pd \n",
        "import numpy as np \n",
        "import pickle as pck \n",
        "import os.path\n",
        "from os import path\n",
        "\n",
        "# download dataset\n",
        "!sudo chmod +x get_aclImdb.sh\n",
        "!./get_aclImdb.sh"
      ],
      "execution_count": 2,
      "outputs": [
        {
          "output_type": "stream",
          "text": [
            "./model/bert/assets created!.\n",
            "Downloading aclImdb.\n",
            "--2020-12-29 22:05:17--  http://ai.stanford.edu/~amaas/data/sentiment/aclImdb_v1.tar.gz\n",
            "Resolving ai.stanford.edu (ai.stanford.edu)... 171.64.68.10\n",
            "Connecting to ai.stanford.edu (ai.stanford.edu)|171.64.68.10|:80... connected.\n",
            "HTTP request sent, awaiting response... 200 OK\n",
            "Length: 84125825 (80M) [application/x-gzip]\n",
            "Saving to: ‘aclImdb_v1.tar.gz’\n",
            "\n",
            "aclImdb_v1.tar.gz   100%[===================>]  80.23M  23.8MB/s    in 3.4s    \n",
            "\n",
            "2020-12-29 22:05:20 (23.8 MB/s) - ‘aclImdb_v1.tar.gz’ saved [84125825/84125825]\n",
            "\n",
            "aclImdb downloaded and extracted into ./data/.\n",
            "Downloading bert_uncased_L-12_H-768_A-12_1.\n",
            "--2020-12-29 22:05:26--  https://tfhub.dev/google/bert_uncased_L-12_H-768_A-12/1?tf-hub-format=compressed\n",
            "Resolving tfhub.dev (tfhub.dev)... 172.217.164.142, 2607:f8b0:4004:814::200e\n",
            "Connecting to tfhub.dev (tfhub.dev)|172.217.164.142|:443... connected.\n",
            "HTTP request sent, awaiting response... 302 Found\n",
            "Location: https://storage.googleapis.com/tfhub-modules/google/bert_uncased_L-12_H-768_A-12/1.tar.gz [following]\n",
            "--2020-12-29 22:05:26--  https://storage.googleapis.com/tfhub-modules/google/bert_uncased_L-12_H-768_A-12/1.tar.gz\n",
            "Resolving storage.googleapis.com (storage.googleapis.com)... 172.217.5.240, 172.217.15.112, 172.217.2.112, ...\n",
            "Connecting to storage.googleapis.com (storage.googleapis.com)|172.217.5.240|:443... connected.\n",
            "HTTP request sent, awaiting response... 200 OK\n",
            "Length: 407795699 (389M) [application/x-tar]\n",
            "Saving to: ‘bert_uncased.tar.gz’\n",
            "\n",
            "bert_uncased.tar.gz 100%[===================>] 388.90M   162MB/s    in 2.4s    \n",
            "\n",
            "2020-12-29 22:05:28 (162 MB/s) - ‘bert_uncased.tar.gz’ saved [407795699/407795699]\n",
            "\n",
            "Bert Uncased downloaded and extracted into ./bert_uncased.\n"
          ],
          "name": "stdout"
        }
      ]
    },
    {
      "cell_type": "markdown",
      "metadata": {
        "id": "DtogBQxE68J7"
      },
      "source": [
        "# Hyperparameters"
      ]
    },
    {
      "cell_type": "code",
      "metadata": {
        "id": "k5q2xQfR68J8"
      },
      "source": [
        "max_tokens = 256 # maximum number of tokens per review\n",
        "max_chars = 20 # maximum size of a token.\n",
        "n_samples = 25000 # number of training instances"
      ],
      "execution_count": 3,
      "outputs": []
    },
    {
      "cell_type": "markdown",
      "metadata": {
        "id": "Z7Qf__JS68J9"
      },
      "source": [
        "Three helper methods to tokenize, remove stopwords, remove puntuation and convert to lowercase"
      ]
    },
    {
      "cell_type": "code",
      "metadata": {
        "id": "9mVsdqGB68J-"
      },
      "source": [
        "def load_dataset_tfidf(path):\n",
        "\n",
        "    # Reviews will be loaded in sequence, i.e., first all negative s followed by all positives.\n",
        "    reviews, sentiments = [], []\n",
        "    for folder, sentiment in (('neg', 0), ('pos', 1)):\n",
        "        folder = os.path.join(path, folder)\n",
        "        for name in os.listdir(folder):\n",
        "            with open(os.path.join(folder, name), 'r') as reader:\n",
        "                text = reader.read()\n",
        "\n",
        "            reviews.append(text)\n",
        "            sentiments.append(sentiment)\n",
        "\n",
        "    return reviews, sentiments"
      ],
      "execution_count": 4,
      "outputs": []
    },
    {
      "cell_type": "code",
      "metadata": {
        "id": "F16ddyO-68J_",
        "outputId": "2f3a642a-497e-42bf-fca6-32020c1c4ba9",
        "colab": {
          "base_uri": "https://localhost:8080/"
        }
      },
      "source": [
        "# Loaded dataset comes tokenized, lowercased and without both stopwords and punctuations\n",
        "\n",
        "train_path = os.path.join('data/aclImdb', 'train')\n",
        "reviews_train, sentiments_train = load_dataset_tfidf(train_path)\n",
        "print(f'Number of training reviews: {len(reviews_train)} and labels: {len(sentiments_train)}')\n",
        "\n",
        "test_path = os.path.join('data/aclImdb', 'test')\n",
        "reviews_test, sentiments_test = load_dataset_tfidf(test_path)\n",
        "print(f'Number of testing reviews: {len(reviews_test)} and labels: {len(sentiments_test)}')"
      ],
      "execution_count": 5,
      "outputs": [
        {
          "output_type": "stream",
          "text": [
            "Number of training reviews: 25000 and labels: 25000\n",
            "Number of testing reviews: 25000 and labels: 25000\n"
          ],
          "name": "stdout"
        }
      ]
    },
    {
      "cell_type": "markdown",
      "metadata": {
        "id": "HG2DRvS-68KA"
      },
      "source": [
        "As seen previously this dataset may be huge to be digested in some environments. So let's limit the train dataset to the hyperparameter n_samples. The idea is to have a dataset with evenly distributed samples from negative and positive labels."
      ]
    },
    {
      "cell_type": "markdown",
      "metadata": {
        "id": "P_-mSMn168KB"
      },
      "source": [
        "# BOW for Logistic Regression"
      ]
    },
    {
      "cell_type": "code",
      "metadata": {
        "id": "PjNnFxXF68KC",
        "outputId": "f2f80dcf-a946-4031-ef2e-9188c61cfa83",
        "colab": {
          "base_uri": "https://localhost:8080/"
        }
      },
      "source": [
        "from sklearn.feature_extraction.text import TfidfVectorizer\n",
        "\n",
        "vectorizer = TfidfVectorizer()\n",
        "vectorizer.fit(reviews_train)"
      ],
      "execution_count": 6,
      "outputs": [
        {
          "output_type": "execute_result",
          "data": {
            "text/plain": [
              "TfidfVectorizer(analyzer='word', binary=False, decode_error='strict',\n",
              "                dtype=<class 'numpy.float64'>, encoding='utf-8',\n",
              "                input='content', lowercase=True, max_df=1.0, max_features=None,\n",
              "                min_df=1, ngram_range=(1, 1), norm='l2', preprocessor=None,\n",
              "                smooth_idf=True, stop_words=None, strip_accents=None,\n",
              "                sublinear_tf=False, token_pattern='(?u)\\\\b\\\\w\\\\w+\\\\b',\n",
              "                tokenizer=None, use_idf=True, vocabulary=None)"
            ]
          },
          "metadata": {
            "tags": []
          },
          "execution_count": 6
        }
      ]
    },
    {
      "cell_type": "code",
      "metadata": {
        "id": "70hEB6tK68KD"
      },
      "source": [
        "import random\n",
        "\n",
        "def shuffle_data(data, label):\n",
        "\n",
        "    data_tmp = np.array(data)\n",
        "    label_tmp = np.asarray(label)\n",
        "    index_shuffle = np.random.permutation(data_tmp.shape[0])\n",
        "    data_tmp = data_tmp[index_shuffle]\n",
        "    label_tmp = label_tmp[index_shuffle]\n",
        "\n",
        "    return data_tmp.tolist(), label_tmp.tolist()"
      ],
      "execution_count": 7,
      "outputs": []
    },
    {
      "cell_type": "code",
      "metadata": {
        "id": "J34hZxyhR6zJ"
      },
      "source": [
        "def shuffle_and_sample_data(data, label, n_samples=1000):\n",
        "\n",
        "    data_tmp = np.array(data)\n",
        "    label_tmp = np.asarray(label)\n",
        "    index_shuffle = np.random.permutation(n_samples)\n",
        "    data_tmp = data_tmp[index_shuffle]\n",
        "    label_tmp = label_tmp[index_shuffle]\n",
        "\n",
        "    return data_tmp.tolist(), label_tmp.tolist()"
      ],
      "execution_count": 8,
      "outputs": []
    },
    {
      "cell_type": "code",
      "metadata": {
        "id": "JCDc6Niq68KD",
        "outputId": "10b20460-aca2-496b-98f6-f3c1f1e8dd80",
        "colab": {
          "base_uri": "https://localhost:8080/"
        }
      },
      "source": [
        "print(len(sentiments_train))\n",
        "reviews_train, sentiments_train = shuffle_data(reviews_train, sentiments_train)\n"
      ],
      "execution_count": 9,
      "outputs": [
        {
          "output_type": "stream",
          "text": [
            "25000\n"
          ],
          "name": "stdout"
        }
      ]
    },
    {
      "cell_type": "code",
      "metadata": {
        "id": "8iSFDX5L68KE"
      },
      "source": [
        "train_x = vectorizer.transform(reviews_train)\n",
        "train_y = np.array(sentiments_train)"
      ],
      "execution_count": 10,
      "outputs": []
    },
    {
      "cell_type": "markdown",
      "metadata": {
        "id": "U3lxMtDH68KE"
      },
      "source": [
        "# Logistic Regression "
      ]
    },
    {
      "cell_type": "code",
      "metadata": {
        "id": "Wg2vGcSw68KF"
      },
      "source": [
        "from sklearn.linear_model import LogisticRegression\n",
        "\n",
        "def fit(train_x, train_y):\n",
        "\n",
        "    model = LogisticRegression()\n",
        "\n",
        "    try:\n",
        "        model.fit(train_x, train_y)\n",
        "    except:\n",
        "        pass\n",
        "\n",
        "    return model"
      ],
      "execution_count": 11,
      "outputs": []
    },
    {
      "cell_type": "code",
      "metadata": {
        "id": "H-Woj4KD68KF",
        "outputId": "a47d2ac8-c5ee-4810-f5db-0603e6ed9e75",
        "colab": {
          "base_uri": "https://localhost:8080/"
        }
      },
      "source": [
        "print(train_x.shape, train_y.shape)\n",
        "model = fit(train_x, train_y)"
      ],
      "execution_count": 12,
      "outputs": [
        {
          "output_type": "stream",
          "text": [
            "(25000, 74849) (25000,)\n"
          ],
          "name": "stdout"
        }
      ]
    },
    {
      "cell_type": "code",
      "metadata": {
        "id": "4WfIOwHP68KG"
      },
      "source": [
        "test_x = vectorizer.transform(reviews_test)\n",
        "test_y = np.array(sentiments_test)"
      ],
      "execution_count": 13,
      "outputs": []
    },
    {
      "cell_type": "code",
      "metadata": {
        "id": "tO2jK3hk68KH"
      },
      "source": [
        "predictions = model.predict(test_x)"
      ],
      "execution_count": 14,
      "outputs": []
    },
    {
      "cell_type": "code",
      "metadata": {
        "id": "_wbkKtP468KH",
        "outputId": "959c2a72-38dd-4ef0-eaac-95c27412b532",
        "colab": {
          "base_uri": "https://localhost:8080/"
        }
      },
      "source": [
        "from sklearn.metrics import accuracy_score\n",
        "\n",
        "accuracy_score = accuracy_score(test_y, predictions)\n",
        "print(f'LogisticRegression accucary is: {accuracy_score: .4f}')"
      ],
      "execution_count": 15,
      "outputs": [
        {
          "output_type": "stream",
          "text": [
            "LogisticRegression accucary is:  0.8832\n"
          ],
          "name": "stdout"
        }
      ]
    },
    {
      "cell_type": "code",
      "metadata": {
        "id": "YftUnkHw68KI",
        "outputId": "b2218ef3-2a97-4a55-9ae1-679fe9ca779b",
        "colab": {
          "base_uri": "https://localhost:8080/"
        }
      },
      "source": [
        "import tensorflow as tf\n",
        "import tensorflow_hub as hub\n",
        "from keras import backend as K\n",
        "\n",
        "# Making sure we have the correct tensorflow version\n",
        "assert tf.__version__ == \"1.15.2\", 'Correct tensorflow version is 1.15.2'"
      ],
      "execution_count": 16,
      "outputs": [
        {
          "output_type": "stream",
          "text": [
            "Using TensorFlow backend.\n"
          ],
          "name": "stderr"
        }
      ]
    },
    {
      "cell_type": "code",
      "metadata": {
        "id": "X1sL3O8K68KJ"
      },
      "source": [
        "# starting TF sessions and setting it to keras backend\n",
        "sess = tf.Session()\n",
        "K.set_session(sess)"
      ],
      "execution_count": 17,
      "outputs": []
    },
    {
      "cell_type": "code",
      "metadata": {
        "id": "9U_Tudhu68KK"
      },
      "source": [
        "sess = tf.Session()\n",
        "\n",
        "class BertEmbeddingLayer(tf.keras.layers.Layer):\n",
        "    def __init__(self,\n",
        "        n_fine_tune_layer = 10,\n",
        "        pooling = 'mean',\n",
        "        bert_path = 'https://tfhub.dev/google/bert_uncased_L-12_H-768_A-12/1',\n",
        "        **kwargs\n",
        "    ):\n",
        "\n",
        "        self.n_fine_tune_layer = n_fine_tune_layer\n",
        "        self.trainable = True\n",
        "        self.output_size = 768\n",
        "        self.pooling = pooling\n",
        "        self.bert_path = bert_path\n",
        "\n",
        "        super(BertEmbeddingLayer, self).__init__(**kwargs)\n",
        "\n",
        "    def build(self, input_features):\n",
        "\n",
        "        self.bert_layer = hub.Module(\n",
        "            self.bert_path, trainable=self.trainable, name=f'{self.name}_module')\n",
        "\n",
        "        print(type(self.bert_layer))\n",
        "\n",
        "        trainable_vars = self.bert_layer.variables\n",
        "        \n",
        "        if self.pooling == 'first':\n",
        "            trainable_vars = [var for var in trainable_vars if not \"/cls/\" in var.name]\n",
        "            trainable_layers = [\"pooler/dense\"]\n",
        "        elif self.pooling == 'mean':\n",
        "            trainable_vars = [\n",
        "                var for var in trainable_vars\n",
        "                if not \"/cls/\" in var.name \n",
        "                and not \"/pooler/\" in var.name]\n",
        "\n",
        "            trainable_layers = []\n",
        "        else:\n",
        "            raise NameError('Undefined pooling type')\n",
        "\n",
        "        for i in range(self.n_fine_tune_layer):\n",
        "            trainable_layers.append(f'encoder/layer_{str(11 - i)}')\n",
        "\n",
        "        trainable_vars = [\n",
        "            var for var in trainable_vars\n",
        "            if any([l in var.name for l in trainable_layers])\n",
        "        ]\n",
        "\n",
        "        for var in trainable_vars:\n",
        "            self._trainable_weights.append(var)\n",
        "\n",
        "        for var in self.bert_layer.variables:\n",
        "            if var not in self._trainable_weights:\n",
        "                self._non_trainable_weights.append(var)\n",
        "\n",
        "        super(BertEmbeddingLayer, self).build(input_features)\n",
        "\n",
        "    def call(self, inputs):\n",
        "        inputs = [K.cast(x, dtype='int32') for x in inputs]\n",
        "        input_ids, input_mask, segment_ids = inputs\n",
        "        bert_inputs = dict(input_ids=input_ids, input_mask=input_mask, segment_ids=segment_ids)\n",
        "\n",
        "        if self.pooling == 'first':\n",
        "            pooled = self.bert_layer(\n",
        "                inputs=bert_inputs, signature='tokens', as_dict=True)['pooled_output']\n",
        "\n",
        "        elif self.pooling == 'mean':\n",
        "            result = self.bert_layer(\n",
        "                inputs=bert_inputs, signature='tokens', as_dict=True)['sequence_output']\n",
        "\n",
        "            mul_mask = lambda x, m: x * tf.expand_dims(m, axis=-1)\n",
        "            masked_reduce_mean = lambda x, m: tf.reduce_sum(mul_mask(x, m), axis=1) / (tf.reduce_sum(m, axis=1, keep_dims=True) + 1e-10)\n",
        "            input_mask = tf.cast(input_mask, tf.float32)\n",
        "            pooled = masked_reduce_mean(result, input_mask)\n",
        "\n",
        "        else:\n",
        "            raise NameError('Undefined pooling type')\n",
        "\n",
        "        return pooled\n",
        "\n",
        "    def get_config(self):\n",
        "\n",
        "        config = super().get_config().copy()\n",
        "        config.update({\n",
        "            'n_fine_tune_layer': self.n_fine_tune_layer,\n",
        "            'pooling': self.pooling,\n",
        "            'bert_path': self.bert_path,\n",
        "        })\n",
        "        return config\n",
        "\n",
        "    def compute_output_shape(self, input_shape):\n",
        "        return (input_shape[0], self.output_size)"
      ],
      "execution_count": 18,
      "outputs": []
    },
    {
      "cell_type": "code",
      "metadata": {
        "id": "pnQPOHXq68Kd",
        "outputId": "2df7c278-3097-4566-9148-0caee84611da",
        "colab": {
          "base_uri": "https://localhost:8080/"
        }
      },
      "source": [
        "def convert_data_to_bert_feature_format(x, y):\n",
        "\n",
        "    # Converted_data to np.array\n",
        "    converted_data = np.array(x, dtype=object)[:, np.newaxis]\n",
        "\n",
        "    return converted_data, np.array(y)\n",
        "\n",
        "\n",
        "reviews_train, sentiments_train = shuffle_and_sample_data(reviews_train, sentiments_train, n_samples)\n",
        "reviews_test, sentiments_test = shuffle_and_sample_data(reviews_test, sentiments_test, n_samples)\n",
        "\n",
        "data_train, labels_train = convert_data_to_bert_feature_format(reviews_train, sentiments_train)\n",
        "data_test, labels_test = convert_data_to_bert_feature_format(reviews_test, sentiments_test)\n",
        "\n",
        "print(labels_train.shape)\n",
        "print(labels_test.shape)\n",
        "print(data_train.shape)\n",
        "print(data_test.shape)"
      ],
      "execution_count": 19,
      "outputs": [
        {
          "output_type": "stream",
          "text": [
            "(25000,)\n",
            "(25000,)\n",
            "(25000, 1)\n",
            "(25000, 1)\n"
          ],
          "name": "stdout"
        }
      ]
    },
    {
      "cell_type": "code",
      "metadata": {
        "id": "YQAxjfRB68Kz"
      },
      "source": [
        "def build_model(max_seq_length):\n",
        "\n",
        "    in_id = tf.keras.layers.Input(shape=(max_seq_length,), name='input_ids')\n",
        "    in_mask = tf.keras.layers.Input(shape=(max_seq_length,), name='input_masks')\n",
        "    in_segment = tf.keras.layers.Input(shape=(max_seq_length,), name='segment_ids')\n",
        "    bert_layer_inputs = [in_id, in_mask, in_segment]\n",
        "\n",
        "    bert_output = BertEmbeddingLayer(n_fine_tune_layer=0)(bert_layer_inputs)\n",
        "    dense = tf.keras.layers.Dense(256, activation='relu')(bert_output)\n",
        "    output = tf.keras.layers.Dense(1, activation='sigmoid')(dense)\n",
        "\n",
        "    model = tf.keras.models.Model(inputs=bert_layer_inputs, outputs=output)\n",
        "    \n",
        "    model.compile(loss='binary_crossentropy', optimizer='adam', metrics=['accuracy'])\n",
        "    model.summary()\n",
        "\n",
        "    return model"
      ],
      "execution_count": 20,
      "outputs": []
    },
    {
      "cell_type": "code",
      "metadata": {
        "id": "HSdDod8R68K0"
      },
      "source": [
        "def initialize_vars(sess):\n",
        "    sess.run(tf.local_variables_initializer())\n",
        "    sess.run(tf.global_variables_initializer())\n",
        "    sess.run(tf.tables_initializer())\n",
        "    K.set_session(sess)"
      ],
      "execution_count": 21,
      "outputs": []
    },
    {
      "cell_type": "code",
      "metadata": {
        "id": "-MOvihEI68K2",
        "outputId": "11944ac5-51a9-4dc1-9bdc-62267bf9eb82",
        "colab": {
          "base_uri": "https://localhost:8080/"
        }
      },
      "source": [
        "from tqdm import tqdm\n",
        "import kerasBert as kb\n",
        "import bert.tokenization as tk\n",
        "from tensorflow_hub import Module\n",
        "import pkg_resources as pkg\n",
        "import bert_utils as bu\n",
        "\n",
        "# Making sure we have install the correct libraries.\n",
        "assert pkg.get_distribution(\"bert-tensorflow\").version == '1.0.1', 'Change bert-tensorflow version to 1.0.1'\n",
        "\n",
        "vocab_file_path = './model/bert/assets/vocab.txt'\n",
        "tokenizer = bu.create_tokenizer(vocab_file_path)\n",
        "\n",
        "train_examples = kb.convert_text_to_examples(data_train, labels_train)\n",
        "test_examples = kb.convert_text_to_examples(data_test, labels_test)\n",
        "\n",
        "(train_input_ids, train_input_masks, train_segment_ids, train_labels) = kb.convert_examples_to_features(tokenizer, train_examples, max_seq_length=max_tokens)\n",
        "\n",
        "(test_input_ids, test_input_masks, test_segment_ids, test_labels) = kb.convert_examples_to_features(tokenizer, test_examples, max_seq_length=max_tokens)"
      ],
      "execution_count": 22,
      "outputs": [
        {
          "output_type": "stream",
          "text": [
            "WARNING:tensorflow:From /usr/local/lib/python3.6/dist-packages/bert/tokenization.py:125: The name tf.gfile.GFile is deprecated. Please use tf.io.gfile.GFile instead.\n",
            "\n"
          ],
          "name": "stdout"
        },
        {
          "output_type": "stream",
          "text": [
            "Converting examples to features: 100%|██████████| 25000/25000 [01:14<00:00, 334.79it/s]\n",
            "Converting examples to features: 100%|██████████| 25000/25000 [01:12<00:00, 343.67it/s]\n"
          ],
          "name": "stderr"
        }
      ]
    },
    {
      "cell_type": "code",
      "metadata": {
        "id": "PZUiABu468K3",
        "outputId": "8de52ed8-bfcd-4804-b288-4ad4c066434a",
        "colab": {
          "base_uri": "https://localhost:8080/"
        }
      },
      "source": [
        "from keras.callbacks import EarlyStopping, ModelCheckpoint, ReduceLROnPlateau\n",
        "\n",
        "earlyStopping = EarlyStopping(monitor='val_loss', patience=10, verbose=0, mode='min')\n",
        "mcp_save = ModelCheckpoint('model/bert/bert_model.hdf5', save_best_only=True, monitor='val_acc', mode='max')\n",
        "reduce_lr_loss = ReduceLROnPlateau(monitor='val_loss', factor=0.1, patience=7, verbose=1, epsilon=1e-4, mode='min')"
      ],
      "execution_count": 24,
      "outputs": [
        {
          "output_type": "stream",
          "text": [
            "/usr/local/lib/python3.6/dist-packages/keras/callbacks/callbacks.py:998: UserWarning: `epsilon` argument is deprecated and will be removed, use `min_delta` instead.\n",
            "  warnings.warn('`epsilon` argument is deprecated and '\n"
          ],
          "name": "stderr"
        }
      ]
    },
    {
      "cell_type": "code",
      "metadata": {
        "id": "rIu9Az6c68K4",
        "outputId": "eb1967cc-0c6b-4162-8bc6-832eb34c11b8",
        "colab": {
          "base_uri": "https://localhost:8080/",
          "height": 1000
        }
      },
      "source": [
        "import os\n",
        "import matplotlib.pyplot as plt\n",
        "import pickle\n",
        "\n",
        "# Will train only if bert_model.h5 does not exist\n",
        "print(\"Num GPUs Available: \", len(tf.config.experimental.list_physical_devices('GPU')))\n",
        "\n",
        "if not os.path.exists('model/bert/bert_model.hdf5'):\n",
        "    print('Build and training model!')\n",
        "    model = build_model(max_tokens)\n",
        "\n",
        "    # Initialize keras.backend==tensorflow session\n",
        "    initialize_vars(sess)\n",
        "\n",
        "    # Fitting the model\n",
        "    history = model.fit([train_input_ids, train_input_masks, train_segment_ids], train_labels, callbacks=[earlyStopping, mcp_save, reduce_lr_loss], validation_data=([test_input_ids, test_input_masks, test_segment_ids], test_labels), epochs=5, batch_size=32)\n",
        "\n",
        "    # Saving history dictionary\n",
        "    history_dict = history.history\n",
        "    tf.keras.models.save_model(model, 'model/bert/bert_model.hdf5')\n",
        "    with open('model/bert/train_history_dict', 'wb') as file_pi:\n",
        "        pickle.dump(history_dict, file_pi)\n",
        "else:\n",
        "    print('Loading trained model!')\n",
        "    model = tf.keras.models.load_model('model/bert/bert_model.hdf5', {'BertEmbeddingLayer': BertEmbeddingLayer})\n",
        "    with open(\"model/bert/train_history_dict\", \"rb\") as fp:\n",
        "        history_dict = pickle.load(fp)\n",
        "\n",
        "# ploting history for accuracy and loss\n",
        "plt.plot(history_dict['acc'])\n",
        "plt.plot(history_dict['val_acc'])\n",
        "plt.title('model accuracy')\n",
        "plt.ylabel('accuracy')\n",
        "plt.xlabel('epoch')\n",
        "plt.legend(['train', 'test'], loc='upper left')\n",
        "plt.show()\n",
        "\n",
        "# ploting history for loss\n",
        "plt.plot(history_dict['loss'])\n",
        "plt.plot(history_dict['val_loss'])\n",
        "plt.title('model loss')\n",
        "plt.ylabel('loss')\n",
        "plt.xlabel('epoch')\n",
        "plt.legend(['train', 'test'], loc='upper left')\n",
        "plt.show()\n",
        "\n",
        "# Now lets see examples working\n",
        "print('--------------------------------')\n",
        "print('Applying classifier on examples:')\n",
        "print('--------------------------------')\n",
        "\n",
        "text_examples = ['The movie was excellent', 'The movie was horrible', 'Oh! What a magnificent movie.']\n",
        "\n",
        "# Here I am classifying messages one at a time just to work with different helper functions.\n",
        "# This could be dealt as we did with training however,i.e., using kb.convert_text_to_examples\n",
        "# and then kb.convert_examples_to_features.\n",
        "\n",
        "for text_example in text_examples:\n",
        "    # example should be an instance of class InputExample in keras-bert.py\n",
        "    example = kb.InputExample(None, text_example)\n",
        "\n",
        "    # helpser methos from keras-bert.py\n",
        "    (example_input_id, example_input_mask, example_segment_id, example_label) = kb.convert_single_example(tokenizer, example, max_seq_length=max_tokens)\n",
        "\n",
        "    # predicting\n",
        "    predict = model.predict([np.reshape(example_input_id, (1, len(example_input_id))), np.reshape(example_input_mask, (1, len(example_input_mask))), np.reshape(example_segment_id, (1, len(example_segment_id)))])\n",
        "    if predict[0] < 0.5:\n",
        "        print(f'{example.text_a}: is NEGATIVE!')\n",
        "    else:\n",
        "        print(f'{example.text_a}: is POSITIVE!')"
      ],
      "execution_count": 25,
      "outputs": [
        {
          "output_type": "stream",
          "text": [
            "Num GPUs Available:  1\n",
            "Build and training model!\n",
            "<class 'tensorflow_hub.module.Module'>\n",
            "INFO:tensorflow:Saver not created because there are no variables in the graph to restore\n"
          ],
          "name": "stdout"
        },
        {
          "output_type": "stream",
          "text": [
            "INFO:tensorflow:Saver not created because there are no variables in the graph to restore\n"
          ],
          "name": "stderr"
        },
        {
          "output_type": "stream",
          "text": [
            "WARNING:tensorflow:From /tmp/tmpi_qcu3a3.py:38: calling reduce_sum_v1 (from tensorflow.python.ops.math_ops) with keep_dims is deprecated and will be removed in a future version.\n",
            "Instructions for updating:\n",
            "keep_dims is deprecated, use keepdims instead\n"
          ],
          "name": "stdout"
        },
        {
          "output_type": "stream",
          "text": [
            "WARNING:tensorflow:From /tmp/tmpi_qcu3a3.py:38: calling reduce_sum_v1 (from tensorflow.python.ops.math_ops) with keep_dims is deprecated and will be removed in a future version.\n",
            "Instructions for updating:\n",
            "keep_dims is deprecated, use keepdims instead\n"
          ],
          "name": "stderr"
        },
        {
          "output_type": "stream",
          "text": [
            "WARNING:tensorflow:From /usr/local/lib/python3.6/dist-packages/tensorflow_core/python/ops/resource_variable_ops.py:1630: calling BaseResourceVariable.__init__ (from tensorflow.python.ops.resource_variable_ops) with constraint is deprecated and will be removed in a future version.\n",
            "Instructions for updating:\n",
            "If using Keras pass *_constraint arguments to layers.\n"
          ],
          "name": "stdout"
        },
        {
          "output_type": "stream",
          "text": [
            "WARNING:tensorflow:From /usr/local/lib/python3.6/dist-packages/tensorflow_core/python/ops/resource_variable_ops.py:1630: calling BaseResourceVariable.__init__ (from tensorflow.python.ops.resource_variable_ops) with constraint is deprecated and will be removed in a future version.\n",
            "Instructions for updating:\n",
            "If using Keras pass *_constraint arguments to layers.\n"
          ],
          "name": "stderr"
        },
        {
          "output_type": "stream",
          "text": [
            "WARNING:tensorflow:From /usr/local/lib/python3.6/dist-packages/tensorflow_core/python/ops/nn_impl.py:183: where (from tensorflow.python.ops.array_ops) is deprecated and will be removed in a future version.\n",
            "Instructions for updating:\n",
            "Use tf.where in 2.0, which has the same broadcast rule as np.where\n"
          ],
          "name": "stdout"
        },
        {
          "output_type": "stream",
          "text": [
            "WARNING:tensorflow:From /usr/local/lib/python3.6/dist-packages/tensorflow_core/python/ops/nn_impl.py:183: where (from tensorflow.python.ops.array_ops) is deprecated and will be removed in a future version.\n",
            "Instructions for updating:\n",
            "Use tf.where in 2.0, which has the same broadcast rule as np.where\n"
          ],
          "name": "stderr"
        },
        {
          "output_type": "stream",
          "text": [
            "Model: \"model\"\n",
            "__________________________________________________________________________________________________\n",
            "Layer (type)                    Output Shape         Param #     Connected to                     \n",
            "==================================================================================================\n",
            "input_ids (InputLayer)          [(None, 256)]        0                                            \n",
            "__________________________________________________________________________________________________\n",
            "input_masks (InputLayer)        [(None, 256)]        0                                            \n",
            "__________________________________________________________________________________________________\n",
            "segment_ids (InputLayer)        [(None, 256)]        0                                            \n",
            "__________________________________________________________________________________________________\n",
            "bert_embedding_layer (BertEmbed (None, 768)          110104890   input_ids[0][0]                  \n",
            "                                                                 input_masks[0][0]                \n",
            "                                                                 segment_ids[0][0]                \n",
            "__________________________________________________________________________________________________\n",
            "dense (Dense)                   (None, 256)          196864      bert_embedding_layer[0][0]       \n",
            "__________________________________________________________________________________________________\n",
            "dense_1 (Dense)                 (None, 1)            257         dense[0][0]                      \n",
            "==================================================================================================\n",
            "Total params: 110,302,011\n",
            "Trainable params: 197,121\n",
            "Non-trainable params: 110,104,890\n",
            "__________________________________________________________________________________________________\n",
            "Train on 25000 samples, validate on 25000 samples\n",
            "Epoch 1/5\n",
            "25000/25000 [==============================] - 957s 38ms/sample - loss: 0.3771 - acc: 0.8308 - val_loss: 0.3325 - val_acc: 0.8567\n",
            "Epoch 2/5\n",
            "25000/25000 [==============================] - 952s 38ms/sample - loss: 0.3437 - acc: 0.8501 - val_loss: 0.3276 - val_acc: 0.8572\n",
            "Epoch 3/5\n",
            "25000/25000 [==============================] - 952s 38ms/sample - loss: 0.3268 - acc: 0.8579 - val_loss: 0.3877 - val_acc: 0.8250\n",
            "Epoch 4/5\n",
            "25000/25000 [==============================] - 953s 38ms/sample - loss: 0.3284 - acc: 0.8565 - val_loss: 0.3172 - val_acc: 0.8623\n",
            "Epoch 5/5\n",
            "25000/25000 [==============================] - 953s 38ms/sample - loss: 0.3203 - acc: 0.8613 - val_loss: 0.3128 - val_acc: 0.8636\n"
          ],
          "name": "stdout"
        },
        {
          "output_type": "display_data",
          "data": {
            "image/png": "[encoded data removed]",
            "text/plain": [
              "<Figure size 432x288 with 1 Axes>"
            ]
          },
          "metadata": {
            "tags": [],
            "needs_background": "light"
          }
        },
        {
          "output_type": "display_data",
          "data": {
            "image/png": "[encoded data removed]",
            "text/plain": [
              "<Figure size 432x288 with 1 Axes>"
            ]
          },
          "metadata": {
            "tags": [],
            "needs_background": "light"
          }
        },
        {
          "output_type": "stream",
          "text": [
            "--------------------------------\n",
            "Applying classifier on examples:\n",
            "--------------------------------\n",
            "The movie was excellent: is POSITIVE!\n",
            "The movie was horrible: is NEGATIVE!\n",
            "Oh! What a magnificent movie.: is POSITIVE!\n"
          ],
          "name": "stdout"
        }
      ]
    },
    {
      "cell_type": "code",
      "metadata": {
        "id": "zRHWbU1468K6"
      },
      "source": [
        ""
      ],
      "execution_count": null,
      "outputs": []
    }
  ]
}